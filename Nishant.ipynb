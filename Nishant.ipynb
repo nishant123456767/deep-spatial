{
 "cells": [
  {
   "cell_type": "markdown",
   "metadata": {},
   "source": [
    "# Importing libraies "
   ]
  },
  {
   "cell_type": "code",
   "execution_count": 1,
   "metadata": {},
   "outputs": [],
   "source": [
    "import pandas as pd\n",
    "import numpy as np\n",
    "import seaborn as sns\n",
    "import matplotlib.pyplot as plt\n",
    "%matplotlib inline"
   ]
  },
  {
   "cell_type": "markdown",
   "metadata": {},
   "source": [
    "# Loading dataset "
   ]
  },
  {
   "cell_type": "code",
   "execution_count": 2,
   "metadata": {},
   "outputs": [],
   "source": [
    "orignal_data = pd.read_csv('Data_MFR_310.csv')"
   ]
  },
  {
   "cell_type": "markdown",
   "metadata": {},
   "source": [
    "# Creating copy of the dataset so that we doesn't make any changes in the orignal data "
   ]
  },
  {
   "cell_type": "code",
   "execution_count": 3,
   "metadata": {},
   "outputs": [],
   "source": [
    "data = orignal_data.copy()"
   ]
  },
  {
   "cell_type": "markdown",
   "metadata": {},
   "source": [
    "## Checking and analysing the data "
   ]
  },
  {
   "cell_type": "code",
   "execution_count": 4,
   "metadata": {
    "scrolled": true
   },
   "outputs": [
    {
     "data": {
      "text/html": [
       "<div>\n",
       "<style scoped>\n",
       "    .dataframe tbody tr th:only-of-type {\n",
       "        vertical-align: middle;\n",
       "    }\n",
       "\n",
       "    .dataframe tbody tr th {\n",
       "        vertical-align: top;\n",
       "    }\n",
       "\n",
       "    .dataframe thead th {\n",
       "        text-align: right;\n",
       "    }\n",
       "</style>\n",
       "<table border=\"1\" class=\"dataframe\">\n",
       "  <thead>\n",
       "    <tr style=\"text-align: right;\">\n",
       "      <th></th>\n",
       "      <th>Unnamed: 0</th>\n",
       "      <th>513FC31103.pv</th>\n",
       "      <th>513HC31114-5.mv</th>\n",
       "      <th>513PC31201.pv</th>\n",
       "      <th>513LC31202.pv</th>\n",
       "      <th>513FC31409.pv</th>\n",
       "      <th>513FC31114-5.pv</th>\n",
       "      <th>513TC31220.pv</th>\n",
       "      <th>MFR</th>\n",
       "    </tr>\n",
       "  </thead>\n",
       "  <tbody>\n",
       "    <tr>\n",
       "      <th>0</th>\n",
       "      <td>04-05-2018 19:45</td>\n",
       "      <td>24856.584</td>\n",
       "      <td>0.153</td>\n",
       "      <td>30.414835</td>\n",
       "      <td>79.657906</td>\n",
       "      <td>50850.578</td>\n",
       "      <td>0.163994</td>\n",
       "      <td>80.399605</td>\n",
       "      <td>3.4</td>\n",
       "    </tr>\n",
       "    <tr>\n",
       "      <th>1</th>\n",
       "      <td>04-05-2018 21:45</td>\n",
       "      <td>25537.250</td>\n",
       "      <td>0.153</td>\n",
       "      <td>30.527121</td>\n",
       "      <td>78.532608</td>\n",
       "      <td>42229.813</td>\n",
       "      <td>0.129739</td>\n",
       "      <td>78.861328</td>\n",
       "      <td>3.2</td>\n",
       "    </tr>\n",
       "    <tr>\n",
       "      <th>2</th>\n",
       "      <td>04-05-2018 23:45</td>\n",
       "      <td>25689.266</td>\n",
       "      <td>0.153</td>\n",
       "      <td>30.356180</td>\n",
       "      <td>78.842636</td>\n",
       "      <td>45335.852</td>\n",
       "      <td>0.150003</td>\n",
       "      <td>78.818115</td>\n",
       "      <td>3.2</td>\n",
       "    </tr>\n",
       "    <tr>\n",
       "      <th>3</th>\n",
       "      <td>04-06-2018 01:45</td>\n",
       "      <td>25098.754</td>\n",
       "      <td>0.153</td>\n",
       "      <td>30.894308</td>\n",
       "      <td>79.173500</td>\n",
       "      <td>43077.016</td>\n",
       "      <td>0.151543</td>\n",
       "      <td>79.022720</td>\n",
       "      <td>3.1</td>\n",
       "    </tr>\n",
       "    <tr>\n",
       "      <th>4</th>\n",
       "      <td>04-06-2018 03:45</td>\n",
       "      <td>24853.941</td>\n",
       "      <td>0.150</td>\n",
       "      <td>30.680647</td>\n",
       "      <td>78.677299</td>\n",
       "      <td>40404.387</td>\n",
       "      <td>0.122582</td>\n",
       "      <td>79.038483</td>\n",
       "      <td>3.3</td>\n",
       "    </tr>\n",
       "  </tbody>\n",
       "</table>\n",
       "</div>"
      ],
      "text/plain": [
       "         Unnamed: 0  513FC31103.pv  513HC31114-5.mv  513PC31201.pv  \\\n",
       "0  04-05-2018 19:45      24856.584            0.153      30.414835   \n",
       "1  04-05-2018 21:45      25537.250            0.153      30.527121   \n",
       "2  04-05-2018 23:45      25689.266            0.153      30.356180   \n",
       "3  04-06-2018 01:45      25098.754            0.153      30.894308   \n",
       "4  04-06-2018 03:45      24853.941            0.150      30.680647   \n",
       "\n",
       "   513LC31202.pv  513FC31409.pv  513FC31114-5.pv  513TC31220.pv  MFR  \n",
       "0      79.657906      50850.578         0.163994      80.399605  3.4  \n",
       "1      78.532608      42229.813         0.129739      78.861328  3.2  \n",
       "2      78.842636      45335.852         0.150003      78.818115  3.2  \n",
       "3      79.173500      43077.016         0.151543      79.022720  3.1  \n",
       "4      78.677299      40404.387         0.122582      79.038483  3.3  "
      ]
     },
     "execution_count": 4,
     "metadata": {},
     "output_type": "execute_result"
    }
   ],
   "source": [
    "data.head()"
   ]
  },
  {
   "cell_type": "markdown",
   "metadata": {},
   "source": [
    "## Taking usefull insight out of the data "
   ]
  },
  {
   "cell_type": "code",
   "execution_count": 5,
   "metadata": {
    "scrolled": true
   },
   "outputs": [
    {
     "name": "stdout",
     "output_type": "stream",
     "text": [
      "<class 'pandas.core.frame.DataFrame'>\n",
      "RangeIndex: 2564 entries, 0 to 2563\n",
      "Data columns (total 9 columns):\n",
      " #   Column           Non-Null Count  Dtype  \n",
      "---  ------           --------------  -----  \n",
      " 0   Unnamed: 0       2564 non-null   object \n",
      " 1   513FC31103.pv    2486 non-null   float64\n",
      " 2   513HC31114-5.mv  2560 non-null   float64\n",
      " 3   513PC31201.pv    2484 non-null   float64\n",
      " 4   513LC31202.pv    2484 non-null   float64\n",
      " 5   513FC31409.pv    2484 non-null   float64\n",
      " 6   513FC31114-5.pv  2486 non-null   float64\n",
      " 7   513TC31220.pv    2484 non-null   float64\n",
      " 8   MFR              2564 non-null   float64\n",
      "dtypes: float64(8), object(1)\n",
      "memory usage: 180.4+ KB\n"
     ]
    }
   ],
   "source": [
    "data.info()"
   ]
  },
  {
   "cell_type": "markdown",
   "metadata": {},
   "source": [
    "### Here we can see that there are so many rows where data is missing and few rows which are of no use to us like time as it is having no impact on the result of the data "
   ]
  },
  {
   "cell_type": "code",
   "execution_count": 6,
   "metadata": {},
   "outputs": [],
   "source": [
    "data =  data.drop(['Unnamed: 0'],axis=1)"
   ]
  },
  {
   "cell_type": "markdown",
   "metadata": {},
   "source": [
    "## Renaming all the columns so that it would be easy for us identify the columns  "
   ]
  },
  {
   "cell_type": "code",
   "execution_count": 7,
   "metadata": {},
   "outputs": [],
   "source": [
    "data['513FC31103.pv'] = data.rename(columns={'513FC31103.pv':'Propylene_flow'}, inplace=True)"
   ]
  },
  {
   "cell_type": "code",
   "execution_count": 8,
   "metadata": {},
   "outputs": [],
   "source": [
    "data['513HC31114-5.mv'] = data.rename(columns={'513HC31114-5.mv':'Hydrogen_ratio'}, inplace=True)"
   ]
  },
  {
   "cell_type": "code",
   "execution_count": 9,
   "metadata": {},
   "outputs": [],
   "source": [
    "data['513PC31201.pv'] = data.rename(columns={'513PC31201.pv':'Pressure_controller'}, inplace=True)"
   ]
  },
  {
   "cell_type": "code",
   "execution_count": 10,
   "metadata": {},
   "outputs": [],
   "source": [
    "data['513LC31202.pv'] = data.rename(columns={'513LC31202.pv':'Level_controller'}, inplace=True)"
   ]
  },
  {
   "cell_type": "code",
   "execution_count": 11,
   "metadata": {},
   "outputs": [],
   "source": [
    "data['513FC31409.pv'] = data.rename(columns={'513FC31409.pv':'Liquefied_Recycle_gas_to_R-310_dome_top'}, inplace=True)"
   ]
  },
  {
   "cell_type": "code",
   "execution_count": 12,
   "metadata": {},
   "outputs": [],
   "source": [
    "data['513FC31114-5.pv'] = data.rename(columns={'513FC31114-5.pv':'Hydrogen_Flow'}, inplace=True)"
   ]
  },
  {
   "cell_type": "code",
   "execution_count": 13,
   "metadata": {},
   "outputs": [],
   "source": [
    "data['513TC31220.pv'] = data.rename(columns={'513TC31220.pv':'Temperature_controller'}, inplace=True)"
   ]
  },
  {
   "cell_type": "code",
   "execution_count": 14,
   "metadata": {
    "scrolled": true
   },
   "outputs": [
    {
     "data": {
      "text/html": [
       "<div>\n",
       "<style scoped>\n",
       "    .dataframe tbody tr th:only-of-type {\n",
       "        vertical-align: middle;\n",
       "    }\n",
       "\n",
       "    .dataframe tbody tr th {\n",
       "        vertical-align: top;\n",
       "    }\n",
       "\n",
       "    .dataframe thead th {\n",
       "        text-align: right;\n",
       "    }\n",
       "</style>\n",
       "<table border=\"1\" class=\"dataframe\">\n",
       "  <thead>\n",
       "    <tr style=\"text-align: right;\">\n",
       "      <th></th>\n",
       "      <th>Propylene_flow</th>\n",
       "      <th>Hydrogen_ratio</th>\n",
       "      <th>Pressure_controller</th>\n",
       "      <th>Level_controller</th>\n",
       "      <th>Liquefied_Recycle_gas_to_R-310_dome_top</th>\n",
       "      <th>Hydrogen_Flow</th>\n",
       "      <th>Temperature_controller</th>\n",
       "      <th>MFR</th>\n",
       "      <th>513FC31103.pv</th>\n",
       "      <th>513HC31114-5.mv</th>\n",
       "      <th>513PC31201.pv</th>\n",
       "      <th>513LC31202.pv</th>\n",
       "      <th>513FC31409.pv</th>\n",
       "      <th>513FC31114-5.pv</th>\n",
       "      <th>513TC31220.pv</th>\n",
       "    </tr>\n",
       "  </thead>\n",
       "  <tbody>\n",
       "    <tr>\n",
       "      <th>0</th>\n",
       "      <td>24856.584</td>\n",
       "      <td>0.153</td>\n",
       "      <td>30.414835</td>\n",
       "      <td>79.657906</td>\n",
       "      <td>50850.578</td>\n",
       "      <td>0.163994</td>\n",
       "      <td>80.399605</td>\n",
       "      <td>3.4</td>\n",
       "      <td>None</td>\n",
       "      <td>None</td>\n",
       "      <td>None</td>\n",
       "      <td>None</td>\n",
       "      <td>None</td>\n",
       "      <td>None</td>\n",
       "      <td>None</td>\n",
       "    </tr>\n",
       "    <tr>\n",
       "      <th>1</th>\n",
       "      <td>25537.250</td>\n",
       "      <td>0.153</td>\n",
       "      <td>30.527121</td>\n",
       "      <td>78.532608</td>\n",
       "      <td>42229.813</td>\n",
       "      <td>0.129739</td>\n",
       "      <td>78.861328</td>\n",
       "      <td>3.2</td>\n",
       "      <td>None</td>\n",
       "      <td>None</td>\n",
       "      <td>None</td>\n",
       "      <td>None</td>\n",
       "      <td>None</td>\n",
       "      <td>None</td>\n",
       "      <td>None</td>\n",
       "    </tr>\n",
       "    <tr>\n",
       "      <th>2</th>\n",
       "      <td>25689.266</td>\n",
       "      <td>0.153</td>\n",
       "      <td>30.356180</td>\n",
       "      <td>78.842636</td>\n",
       "      <td>45335.852</td>\n",
       "      <td>0.150003</td>\n",
       "      <td>78.818115</td>\n",
       "      <td>3.2</td>\n",
       "      <td>None</td>\n",
       "      <td>None</td>\n",
       "      <td>None</td>\n",
       "      <td>None</td>\n",
       "      <td>None</td>\n",
       "      <td>None</td>\n",
       "      <td>None</td>\n",
       "    </tr>\n",
       "    <tr>\n",
       "      <th>3</th>\n",
       "      <td>25098.754</td>\n",
       "      <td>0.153</td>\n",
       "      <td>30.894308</td>\n",
       "      <td>79.173500</td>\n",
       "      <td>43077.016</td>\n",
       "      <td>0.151543</td>\n",
       "      <td>79.022720</td>\n",
       "      <td>3.1</td>\n",
       "      <td>None</td>\n",
       "      <td>None</td>\n",
       "      <td>None</td>\n",
       "      <td>None</td>\n",
       "      <td>None</td>\n",
       "      <td>None</td>\n",
       "      <td>None</td>\n",
       "    </tr>\n",
       "    <tr>\n",
       "      <th>4</th>\n",
       "      <td>24853.941</td>\n",
       "      <td>0.150</td>\n",
       "      <td>30.680647</td>\n",
       "      <td>78.677299</td>\n",
       "      <td>40404.387</td>\n",
       "      <td>0.122582</td>\n",
       "      <td>79.038483</td>\n",
       "      <td>3.3</td>\n",
       "      <td>None</td>\n",
       "      <td>None</td>\n",
       "      <td>None</td>\n",
       "      <td>None</td>\n",
       "      <td>None</td>\n",
       "      <td>None</td>\n",
       "      <td>None</td>\n",
       "    </tr>\n",
       "  </tbody>\n",
       "</table>\n",
       "</div>"
      ],
      "text/plain": [
       "   Propylene_flow  Hydrogen_ratio  Pressure_controller  Level_controller  \\\n",
       "0       24856.584           0.153            30.414835         79.657906   \n",
       "1       25537.250           0.153            30.527121         78.532608   \n",
       "2       25689.266           0.153            30.356180         78.842636   \n",
       "3       25098.754           0.153            30.894308         79.173500   \n",
       "4       24853.941           0.150            30.680647         78.677299   \n",
       "\n",
       "   Liquefied_Recycle_gas_to_R-310_dome_top  Hydrogen_Flow  \\\n",
       "0                                50850.578       0.163994   \n",
       "1                                42229.813       0.129739   \n",
       "2                                45335.852       0.150003   \n",
       "3                                43077.016       0.151543   \n",
       "4                                40404.387       0.122582   \n",
       "\n",
       "   Temperature_controller  MFR 513FC31103.pv 513HC31114-5.mv 513PC31201.pv  \\\n",
       "0               80.399605  3.4          None            None          None   \n",
       "1               78.861328  3.2          None            None          None   \n",
       "2               78.818115  3.2          None            None          None   \n",
       "3               79.022720  3.1          None            None          None   \n",
       "4               79.038483  3.3          None            None          None   \n",
       "\n",
       "  513LC31202.pv 513FC31409.pv 513FC31114-5.pv 513TC31220.pv  \n",
       "0          None          None            None          None  \n",
       "1          None          None            None          None  \n",
       "2          None          None            None          None  \n",
       "3          None          None            None          None  \n",
       "4          None          None            None          None  "
      ]
     },
     "execution_count": 14,
     "metadata": {},
     "output_type": "execute_result"
    }
   ],
   "source": [
    "data.head()"
   ]
  },
  {
   "cell_type": "markdown",
   "metadata": {},
   "source": [
    "## Droping the not required columns "
   ]
  },
  {
   "cell_type": "code",
   "execution_count": 15,
   "metadata": {},
   "outputs": [],
   "source": [
    "data = data.drop(['513FC31103.pv','513HC31114-5.mv','513PC31201.pv','513LC31202.pv','513FC31409.pv','513FC31114-5.pv','513TC31220.pv'],axis=1)"
   ]
  },
  {
   "cell_type": "markdown",
   "metadata": {},
   "source": [
    "## Now the data is ready for pre processing "
   ]
  },
  {
   "cell_type": "code",
   "execution_count": 16,
   "metadata": {
    "scrolled": true
   },
   "outputs": [
    {
     "data": {
      "text/html": [
       "<div>\n",
       "<style scoped>\n",
       "    .dataframe tbody tr th:only-of-type {\n",
       "        vertical-align: middle;\n",
       "    }\n",
       "\n",
       "    .dataframe tbody tr th {\n",
       "        vertical-align: top;\n",
       "    }\n",
       "\n",
       "    .dataframe thead th {\n",
       "        text-align: right;\n",
       "    }\n",
       "</style>\n",
       "<table border=\"1\" class=\"dataframe\">\n",
       "  <thead>\n",
       "    <tr style=\"text-align: right;\">\n",
       "      <th></th>\n",
       "      <th>Propylene_flow</th>\n",
       "      <th>Hydrogen_ratio</th>\n",
       "      <th>Pressure_controller</th>\n",
       "      <th>Level_controller</th>\n",
       "      <th>Liquefied_Recycle_gas_to_R-310_dome_top</th>\n",
       "      <th>Hydrogen_Flow</th>\n",
       "      <th>Temperature_controller</th>\n",
       "      <th>MFR</th>\n",
       "    </tr>\n",
       "  </thead>\n",
       "  <tbody>\n",
       "    <tr>\n",
       "      <th>0</th>\n",
       "      <td>24856.584</td>\n",
       "      <td>0.153</td>\n",
       "      <td>30.414835</td>\n",
       "      <td>79.657906</td>\n",
       "      <td>50850.578</td>\n",
       "      <td>0.163994</td>\n",
       "      <td>80.399605</td>\n",
       "      <td>3.4</td>\n",
       "    </tr>\n",
       "    <tr>\n",
       "      <th>1</th>\n",
       "      <td>25537.250</td>\n",
       "      <td>0.153</td>\n",
       "      <td>30.527121</td>\n",
       "      <td>78.532608</td>\n",
       "      <td>42229.813</td>\n",
       "      <td>0.129739</td>\n",
       "      <td>78.861328</td>\n",
       "      <td>3.2</td>\n",
       "    </tr>\n",
       "    <tr>\n",
       "      <th>2</th>\n",
       "      <td>25689.266</td>\n",
       "      <td>0.153</td>\n",
       "      <td>30.356180</td>\n",
       "      <td>78.842636</td>\n",
       "      <td>45335.852</td>\n",
       "      <td>0.150003</td>\n",
       "      <td>78.818115</td>\n",
       "      <td>3.2</td>\n",
       "    </tr>\n",
       "    <tr>\n",
       "      <th>3</th>\n",
       "      <td>25098.754</td>\n",
       "      <td>0.153</td>\n",
       "      <td>30.894308</td>\n",
       "      <td>79.173500</td>\n",
       "      <td>43077.016</td>\n",
       "      <td>0.151543</td>\n",
       "      <td>79.022720</td>\n",
       "      <td>3.1</td>\n",
       "    </tr>\n",
       "    <tr>\n",
       "      <th>4</th>\n",
       "      <td>24853.941</td>\n",
       "      <td>0.150</td>\n",
       "      <td>30.680647</td>\n",
       "      <td>78.677299</td>\n",
       "      <td>40404.387</td>\n",
       "      <td>0.122582</td>\n",
       "      <td>79.038483</td>\n",
       "      <td>3.3</td>\n",
       "    </tr>\n",
       "  </tbody>\n",
       "</table>\n",
       "</div>"
      ],
      "text/plain": [
       "   Propylene_flow  Hydrogen_ratio  Pressure_controller  Level_controller  \\\n",
       "0       24856.584           0.153            30.414835         79.657906   \n",
       "1       25537.250           0.153            30.527121         78.532608   \n",
       "2       25689.266           0.153            30.356180         78.842636   \n",
       "3       25098.754           0.153            30.894308         79.173500   \n",
       "4       24853.941           0.150            30.680647         78.677299   \n",
       "\n",
       "   Liquefied_Recycle_gas_to_R-310_dome_top  Hydrogen_Flow  \\\n",
       "0                                50850.578       0.163994   \n",
       "1                                42229.813       0.129739   \n",
       "2                                45335.852       0.150003   \n",
       "3                                43077.016       0.151543   \n",
       "4                                40404.387       0.122582   \n",
       "\n",
       "   Temperature_controller  MFR  \n",
       "0               80.399605  3.4  \n",
       "1               78.861328  3.2  \n",
       "2               78.818115  3.2  \n",
       "3               79.022720  3.1  \n",
       "4               79.038483  3.3  "
      ]
     },
     "execution_count": 16,
     "metadata": {},
     "output_type": "execute_result"
    }
   ],
   "source": [
    "data.head()"
   ]
  },
  {
   "cell_type": "markdown",
   "metadata": {},
   "source": [
    "# Data preprocessing "
   ]
  },
  {
   "cell_type": "code",
   "execution_count": 17,
   "metadata": {
    "scrolled": true
   },
   "outputs": [
    {
     "data": {
      "text/plain": [
       "<matplotlib.axes._subplots.AxesSubplot at 0x23a782b3208>"
      ]
     },
     "execution_count": 17,
     "metadata": {},
     "output_type": "execute_result"
    },
    {
     "data": {
      "image/png": "[encoded data removed]",
      "text/plain": [
       "<Figure size 432x288 with 1 Axes>"
      ]
     },
     "metadata": {
      "needs_background": "light"
     },
     "output_type": "display_data"
    }
   ],
   "source": [
    "sns.heatmap(data.isnull(),yticklabels=False,cbar=False)"
   ]
  },
  {
   "cell_type": "markdown",
   "metadata": {},
   "source": [
    "## As we can see that there are few rows which are having only 2 columns filled so we remove those rows as they as very less impact on the outcome of the result of the dataset"
   ]
  },
  {
   "cell_type": "markdown",
   "metadata": {},
   "source": [
    "# Droping all the null values"
   ]
  },
  {
   "cell_type": "code",
   "execution_count": 18,
   "metadata": {},
   "outputs": [],
   "source": [
    "data = data.dropna()"
   ]
  },
  {
   "cell_type": "code",
   "execution_count": 19,
   "metadata": {},
   "outputs": [
    {
     "name": "stdout",
     "output_type": "stream",
     "text": [
      "<class 'pandas.core.frame.DataFrame'>\n",
      "Int64Index: 2484 entries, 0 to 2559\n",
      "Data columns (total 8 columns):\n",
      " #   Column                                   Non-Null Count  Dtype  \n",
      "---  ------                                   --------------  -----  \n",
      " 0   Propylene_flow                           2484 non-null   float64\n",
      " 1   Hydrogen_ratio                           2484 non-null   float64\n",
      " 2   Pressure_controller                      2484 non-null   float64\n",
      " 3   Level_controller                         2484 non-null   float64\n",
      " 4   Liquefied_Recycle_gas_to_R-310_dome_top  2484 non-null   float64\n",
      " 5   Hydrogen_Flow                            2484 non-null   float64\n",
      " 6   Temperature_controller                   2484 non-null   float64\n",
      " 7   MFR                                      2484 non-null   float64\n",
      "dtypes: float64(8)\n",
      "memory usage: 174.7 KB\n"
     ]
    }
   ],
   "source": [
    "data.info()"
   ]
  },
  {
   "cell_type": "markdown",
   "metadata": {},
   "source": [
    "# Checking the graph's "
   ]
  },
  {
   "cell_type": "code",
   "execution_count": 20,
   "metadata": {
    "scrolled": true
   },
   "outputs": [
    {
     "data": {
      "text/plain": [
       "<matplotlib.axes._subplots.AxesSubplot at 0x23a78a4dd48>"
      ]
     },
     "execution_count": 20,
     "metadata": {},
     "output_type": "execute_result"
    },
    {
     "data": {
      "image/png": "[encoded data removed]",
      "text/plain": [
       "<Figure size 432x288 with 1 Axes>"
      ]
     },
     "metadata": {
      "needs_background": "light"
     },
     "output_type": "display_data"
    }
   ],
   "source": [
    "sns.boxplot(x='Hydrogen_ratio',data=data)"
   ]
  },
  {
   "cell_type": "code",
   "execution_count": 21,
   "metadata": {},
   "outputs": [
    {
     "data": {
      "text/plain": [
       "<matplotlib.axes._subplots.AxesSubplot at 0x23a78a63a88>"
      ]
     },
     "execution_count": 21,
     "metadata": {},
     "output_type": "execute_result"
    },
    {
     "data": {
      "image/png": "[encoded data removed]",
      "text/plain": [
       "<Figure size 432x288 with 1 Axes>"
      ]
     },
     "metadata": {
      "needs_background": "light"
     },
     "output_type": "display_data"
    }
   ],
   "source": [
    "sns.boxplot(x='Propylene_flow',data=data)"
   ]
  },
  {
   "cell_type": "markdown",
   "metadata": {},
   "source": [
    "## As you can see that there so many outliers in the graph so we need to remove them as they are having bad impact on the outcome of the data "
   ]
  },
  {
   "cell_type": "markdown",
   "metadata": {},
   "source": [
    "# Removing outliers"
   ]
  },
  {
   "cell_type": "code",
   "execution_count": 22,
   "metadata": {},
   "outputs": [
    {
     "name": "stdout",
     "output_type": "stream",
     "text": [
      "[[0.26273019 0.42590012 0.58798513 ... 0.60828028 0.30998733 0.9135353 ]\n",
      " [0.13629161 0.42590012 0.32269669 ... 0.20972067 1.55824061 0.95294074]\n",
      " [0.22540683 0.42590012 0.72656423 ... 0.27416357 1.61072253 0.95294074]\n",
      " ...\n",
      " [3.0802972  0.91869869 0.94038491 ... 1.05617656 0.7528853  0.66268252]\n",
      " [2.52148343 0.01767887 6.61289565 ... 0.02413806 4.32570514 1.07643969]\n",
      " [0.50812063 0.01767887 0.85579153 ... 0.82518188 1.99056261 0.84000702]]\n"
     ]
    }
   ],
   "source": [
    "from scipy import stats\n",
    "z = np.abs(stats.zscore(data))\n",
    "print(z)"
   ]
  },
  {
   "cell_type": "code",
   "execution_count": 23,
   "metadata": {},
   "outputs": [
    {
     "name": "stdout",
     "output_type": "stream",
     "text": [
      "(array([  17,   21,   41,   44,  212,  227,  235,  308,  310,  311,  367,\n",
      "        368,  369,  369,  370,  371,  371,  372,  373,  374,  375,  376,\n",
      "        377,  378,  379,  380,  381,  382,  383,  384,  385,  386,  387,\n",
      "        388,  389,  390,  391,  392,  414,  415,  415,  417,  418,  419,\n",
      "        420,  421,  422,  423,  424,  425,  426,  427,  428,  429,  430,\n",
      "        431,  432,  433,  434,  435,  436,  463,  464,  487,  625,  654,\n",
      "        721,  730,  742,  743,  751,  752,  753,  755,  757,  787,  962,\n",
      "        997, 1011, 1014, 1017, 1018, 1018, 1023, 1023, 1024, 1026, 1026,\n",
      "       1028, 1029, 1039, 1040, 1040, 1040, 1041, 1042, 1046, 1047, 1052,\n",
      "       1052, 1053, 1054, 1055, 1058, 1066, 1067, 1068, 1069, 1080, 1081,\n",
      "       1082, 1083, 1091, 1091, 1092, 1093, 1094, 1095, 1096, 1097, 1101,\n",
      "       1130, 1153, 1156, 1170, 1177, 1178, 1179, 1180, 1181, 1181, 1182,\n",
      "       1183, 1183, 1184, 1233, 1237, 1240, 1241, 1242, 1245, 1292, 1293,\n",
      "       1293, 1294, 1294, 1295, 1296, 1297, 1297, 1402, 1405, 1526, 1526,\n",
      "       1526, 1526, 1526, 1527, 1527, 1528, 1541, 1542, 1547, 1552, 1582,\n",
      "       1582, 1583, 1583, 1584, 1585, 1628, 1643, 1679, 1689, 1698, 1699,\n",
      "       1700, 1701, 1702, 1703, 1740, 1772, 1774, 1785, 1836, 1836, 1837,\n",
      "       1837, 1879, 1903, 1904, 1975, 1998, 2073, 2073, 2110, 2112, 2113,\n",
      "       2114, 2132, 2138, 2159, 2287, 2307, 2327, 2397, 2403, 2434, 2464,\n",
      "       2476, 2481, 2482, 2482], dtype=int64), array([3, 3, 3, 3, 3, 3, 3, 2, 2, 2, 1, 1, 1, 3, 1, 1, 3, 1, 1, 1, 1, 1,\n",
      "       1, 1, 1, 1, 1, 1, 1, 1, 1, 1, 1, 1, 1, 1, 1, 1, 3, 1, 5, 1, 1, 1,\n",
      "       1, 1, 1, 1, 1, 1, 1, 1, 1, 1, 1, 1, 1, 1, 1, 1, 1, 0, 0, 2, 2, 2,\n",
      "       4, 4, 4, 2, 2, 6, 6, 6, 6, 5, 2, 2, 5, 6, 0, 2, 6, 4, 6, 2, 1, 6,\n",
      "       1, 1, 1, 0, 2, 7, 1, 2, 1, 1, 1, 5, 1, 1, 1, 4, 1, 1, 1, 1, 1, 1,\n",
      "       1, 1, 1, 5, 1, 1, 1, 1, 1, 1, 6, 4, 3, 4, 5, 5, 1, 1, 1, 1, 5, 1,\n",
      "       1, 7, 1, 2, 2, 2, 2, 2, 2, 6, 5, 6, 0, 6, 6, 6, 2, 6, 0, 0, 0, 2,\n",
      "       3, 5, 6, 2, 6, 6, 2, 2, 7, 5, 1, 5, 1, 5, 5, 5, 5, 5, 2, 5, 5, 5,\n",
      "       5, 5, 5, 5, 0, 6, 5, 1, 0, 2, 0, 2, 3, 2, 6, 7, 7, 0, 6, 2, 6, 2,\n",
      "       2, 2, 7, 7, 1, 6, 2, 6, 6, 6, 2, 6, 0, 2, 6], dtype=int64))\n"
     ]
    }
   ],
   "source": [
    "threshold = 3\n",
    "print(np.where(z > 3))"
   ]
  },
  {
   "cell_type": "code",
   "execution_count": 24,
   "metadata": {
    "scrolled": true
   },
   "outputs": [
    {
     "name": "stdout",
     "output_type": "stream",
     "text": [
      "Propylene_flow                              2035.949750\n",
      "Hydrogen_ratio                                 0.062000\n",
      "Pressure_controller                            0.479609\n",
      "Level_controller                               1.218716\n",
      "Liquefied_Recycle_gas_to_R-310_dome_top    15214.760000\n",
      "Hydrogen_Flow                                  0.043272\n",
      "Temperature_controller                         0.818838\n",
      "MFR                                            9.100000\n",
      "dtype: float64\n"
     ]
    }
   ],
   "source": [
    "Q1 = data.quantile(0.25)\n",
    "Q3 = data.quantile(0.75)\n",
    "IQR = Q3 - Q1\n",
    "print(IQR)"
   ]
  },
  {
   "cell_type": "code",
   "execution_count": 25,
   "metadata": {},
   "outputs": [],
   "source": [
    "data = data[(z < 3).all(axis=1)]"
   ]
  },
  {
   "cell_type": "code",
   "execution_count": 26,
   "metadata": {},
   "outputs": [
    {
     "name": "stdout",
     "output_type": "stream",
     "text": [
      "Propylene_flow                              2054.838000\n",
      "Hydrogen_ratio                                 0.058000\n",
      "Pressure_controller                            0.460746\n",
      "Level_controller                               1.213616\n",
      "Liquefied_Recycle_gas_to_R-310_dome_top    14675.574000\n",
      "Hydrogen_Flow                                  0.042881\n",
      "Temperature_controller                         0.793076\n",
      "MFR                                            8.900000\n",
      "dtype: float64\n"
     ]
    }
   ],
   "source": [
    "Q1 = data.quantile(0.25)\n",
    "Q3 = data.quantile(0.75)\n",
    "IQR = Q3 - Q1\n",
    "print(IQR)\n",
    "\n",
    "data = data[~((data < (Q1 - 1.5 * IQR)) |(data > (Q3 + 1.5 * IQR))).any(axis=1)]"
   ]
  },
  {
   "cell_type": "markdown",
   "metadata": {},
   "source": [
    "## Now outliers have been moved so the data is all set for next process"
   ]
  },
  {
   "cell_type": "code",
   "execution_count": 27,
   "metadata": {
    "scrolled": true
   },
   "outputs": [
    {
     "data": {
      "text/plain": [
       "<matplotlib.axes._subplots.AxesSubplot at 0x23a78b69308>"
      ]
     },
     "execution_count": 27,
     "metadata": {},
     "output_type": "execute_result"
    },
    {
     "data": {
      "image/png": "[encoded data removed]",
      "text/plain": [
       "<Figure size 432x288 with 1 Axes>"
      ]
     },
     "metadata": {
      "needs_background": "light"
     },
     "output_type": "display_data"
    }
   ],
   "source": [
    "sns.boxplot(x='Propylene_flow',data=data)"
   ]
  },
  {
   "cell_type": "code",
   "execution_count": 28,
   "metadata": {},
   "outputs": [
    {
     "data": {
      "text/plain": [
       "<matplotlib.axes._subplots.AxesSubplot at 0x23a78bc2908>"
      ]
     },
     "execution_count": 28,
     "metadata": {},
     "output_type": "execute_result"
    },
    {
     "data": {
      "image/png": "[encoded data removed]",
      "text/plain": [
       "<Figure size 432x288 with 1 Axes>"
      ]
     },
     "metadata": {
      "needs_background": "light"
     },
     "output_type": "display_data"
    }
   ],
   "source": [
    "sns.boxplot(x='Hydrogen_ratio',data=data)"
   ]
  },
  {
   "cell_type": "markdown",
   "metadata": {},
   "source": [
    "## We plotted corealtion matrices so that we can find out realtion between columns "
   ]
  },
  {
   "cell_type": "code",
   "execution_count": 29,
   "metadata": {},
   "outputs": [
    {
     "data": {
      "image/png": "[encoded data removed]",
      "text/plain": [
       "<Figure size 1080x1080 with 2 Axes>"
      ]
     },
     "metadata": {
      "needs_background": "light"
     },
     "output_type": "display_data"
    }
   ],
   "source": [
    "plt.figure(figsize=(15,15))\n",
    "p=sns.heatmap(data.corr(), annot=True,cmap='RdYlGn',center=0)"
   ]
  },
  {
   "cell_type": "markdown",
   "metadata": {},
   "source": [
    "## As level controller is having less impact on the dependent variable so if we remove the that row there would be very less imapcat on the outcome of the data "
   ]
  },
  {
   "cell_type": "code",
   "execution_count": 30,
   "metadata": {},
   "outputs": [],
   "source": [
    "data =  data.drop(['Level_controller'],axis=1)"
   ]
  },
  {
   "cell_type": "code",
   "execution_count": 31,
   "metadata": {
    "scrolled": true
   },
   "outputs": [
    {
     "data": {
      "text/html": [
       "<div>\n",
       "<style scoped>\n",
       "    .dataframe tbody tr th:only-of-type {\n",
       "        vertical-align: middle;\n",
       "    }\n",
       "\n",
       "    .dataframe tbody tr th {\n",
       "        vertical-align: top;\n",
       "    }\n",
       "\n",
       "    .dataframe thead th {\n",
       "        text-align: right;\n",
       "    }\n",
       "</style>\n",
       "<table border=\"1\" class=\"dataframe\">\n",
       "  <thead>\n",
       "    <tr style=\"text-align: right;\">\n",
       "      <th></th>\n",
       "      <th>Propylene_flow</th>\n",
       "      <th>Hydrogen_ratio</th>\n",
       "      <th>Pressure_controller</th>\n",
       "      <th>Liquefied_Recycle_gas_to_R-310_dome_top</th>\n",
       "      <th>Hydrogen_Flow</th>\n",
       "      <th>Temperature_controller</th>\n",
       "      <th>MFR</th>\n",
       "    </tr>\n",
       "  </thead>\n",
       "  <tbody>\n",
       "    <tr>\n",
       "      <th>0</th>\n",
       "      <td>24856.584</td>\n",
       "      <td>0.153</td>\n",
       "      <td>30.414835</td>\n",
       "      <td>50850.578</td>\n",
       "      <td>0.163994</td>\n",
       "      <td>80.399605</td>\n",
       "      <td>3.4</td>\n",
       "    </tr>\n",
       "    <tr>\n",
       "      <th>1</th>\n",
       "      <td>25537.250</td>\n",
       "      <td>0.153</td>\n",
       "      <td>30.527121</td>\n",
       "      <td>42229.813</td>\n",
       "      <td>0.129739</td>\n",
       "      <td>78.861328</td>\n",
       "      <td>3.2</td>\n",
       "    </tr>\n",
       "    <tr>\n",
       "      <th>2</th>\n",
       "      <td>25689.266</td>\n",
       "      <td>0.153</td>\n",
       "      <td>30.356180</td>\n",
       "      <td>45335.852</td>\n",
       "      <td>0.150003</td>\n",
       "      <td>78.818115</td>\n",
       "      <td>3.2</td>\n",
       "    </tr>\n",
       "    <tr>\n",
       "      <th>3</th>\n",
       "      <td>25098.754</td>\n",
       "      <td>0.153</td>\n",
       "      <td>30.894308</td>\n",
       "      <td>43077.016</td>\n",
       "      <td>0.151543</td>\n",
       "      <td>79.022720</td>\n",
       "      <td>3.1</td>\n",
       "    </tr>\n",
       "    <tr>\n",
       "      <th>4</th>\n",
       "      <td>24853.941</td>\n",
       "      <td>0.150</td>\n",
       "      <td>30.680647</td>\n",
       "      <td>40404.387</td>\n",
       "      <td>0.122582</td>\n",
       "      <td>79.038483</td>\n",
       "      <td>3.3</td>\n",
       "    </tr>\n",
       "  </tbody>\n",
       "</table>\n",
       "</div>"
      ],
      "text/plain": [
       "   Propylene_flow  Hydrogen_ratio  Pressure_controller  \\\n",
       "0       24856.584           0.153            30.414835   \n",
       "1       25537.250           0.153            30.527121   \n",
       "2       25689.266           0.153            30.356180   \n",
       "3       25098.754           0.153            30.894308   \n",
       "4       24853.941           0.150            30.680647   \n",
       "\n",
       "   Liquefied_Recycle_gas_to_R-310_dome_top  Hydrogen_Flow  \\\n",
       "0                                50850.578       0.163994   \n",
       "1                                42229.813       0.129739   \n",
       "2                                45335.852       0.150003   \n",
       "3                                43077.016       0.151543   \n",
       "4                                40404.387       0.122582   \n",
       "\n",
       "   Temperature_controller  MFR  \n",
       "0               80.399605  3.4  \n",
       "1               78.861328  3.2  \n",
       "2               78.818115  3.2  \n",
       "3               79.022720  3.1  \n",
       "4               79.038483  3.3  "
      ]
     },
     "execution_count": 31,
     "metadata": {},
     "output_type": "execute_result"
    }
   ],
   "source": [
    "data.head()"
   ]
  },
  {
   "cell_type": "markdown",
   "metadata": {},
   "source": [
    "## Spliting data into X and y "
   ]
  },
  {
   "cell_type": "code",
   "execution_count": 32,
   "metadata": {},
   "outputs": [],
   "source": [
    "X = data.iloc[:, :-1].values\n",
    "y = data.iloc[:, -1].values"
   ]
  },
  {
   "cell_type": "code",
   "execution_count": 33,
   "metadata": {},
   "outputs": [],
   "source": [
    "X = pd.DataFrame(X)\n",
    "y = pd.DataFrame(y)"
   ]
  },
  {
   "cell_type": "code",
   "execution_count": 34,
   "metadata": {},
   "outputs": [
    {
     "data": {
      "text/plain": [
       "(2088, 6)"
      ]
     },
     "execution_count": 34,
     "metadata": {},
     "output_type": "execute_result"
    }
   ],
   "source": [
    "X.shape"
   ]
  },
  {
   "cell_type": "code",
   "execution_count": 35,
   "metadata": {},
   "outputs": [
    {
     "data": {
      "text/plain": [
       "(2088, 1)"
      ]
     },
     "execution_count": 35,
     "metadata": {},
     "output_type": "execute_result"
    }
   ],
   "source": [
    "y.shape"
   ]
  },
  {
   "cell_type": "markdown",
   "metadata": {},
   "source": [
    "## Doing Standard Scaling so that all the data is in one scale  "
   ]
  },
  {
   "cell_type": "code",
   "execution_count": 36,
   "metadata": {},
   "outputs": [],
   "source": [
    "from sklearn.preprocessing import StandardScaler"
   ]
  },
  {
   "cell_type": "code",
   "execution_count": 37,
   "metadata": {},
   "outputs": [],
   "source": [
    "my_scaler = StandardScaler()"
   ]
  },
  {
   "cell_type": "code",
   "execution_count": 38,
   "metadata": {},
   "outputs": [],
   "source": [
    "x_scaled = my_scaler.fit_transform(X)"
   ]
  },
  {
   "cell_type": "code",
   "execution_count": 39,
   "metadata": {
    "scrolled": true
   },
   "outputs": [
    {
     "data": {
      "text/plain": [
       "array([[-0.37071736, -0.42878737, -0.77333654,  0.82216924,  0.99857368,\n",
       "         0.58088429],\n",
       "       [ 0.06971337, -0.42878737, -0.41623793,  0.00413901, -0.21591624,\n",
       "        -2.02012341],\n",
       "       [ 0.16807662, -0.42878737, -0.95987466,  0.29887316,  0.502509  ,\n",
       "        -2.09319045],\n",
       "       ...,\n",
       "       [ 0.44837783,  0.20530033,  0.66500578, -1.88006875, -1.13719168,\n",
       "         1.26726604],\n",
       "       [ 0.58885877,  0.20530033,  0.39352929, -0.21889195, -0.56842074,\n",
       "        -1.07885837],\n",
       "       [-2.58334559,  0.20530033,  2.0624118 , -2.71185377, -1.91026966,\n",
       "        -1.07270534]])"
      ]
     },
     "execution_count": 39,
     "metadata": {},
     "output_type": "execute_result"
    }
   ],
   "source": [
    "x_scaled"
   ]
  },
  {
   "cell_type": "markdown",
   "metadata": {},
   "source": [
    "## Spliting data into train and testing set"
   ]
  },
  {
   "cell_type": "code",
   "execution_count": 40,
   "metadata": {},
   "outputs": [],
   "source": [
    "from sklearn.model_selection import train_test_split"
   ]
  },
  {
   "cell_type": "code",
   "execution_count": 41,
   "metadata": {},
   "outputs": [],
   "source": [
    "X_train, X_test, y_train, y_test = train_test_split(x_scaled,y,train_size=0.8,random_state=66)"
   ]
  },
  {
   "cell_type": "markdown",
   "metadata": {},
   "source": [
    "# Using random forest"
   ]
  },
  {
   "cell_type": "code",
   "execution_count": 45,
   "metadata": {},
   "outputs": [],
   "source": [
    "from sklearn.ensemble import RandomForestRegressor\n",
    "regressor = RandomForestRegressor"
   ]
  },
  {
   "cell_type": "markdown",
   "metadata": {},
   "source": [
    "## Traing the dataset "
   ]
  },
  {
   "cell_type": "code",
   "execution_count": 59,
   "metadata": {},
   "outputs": [
    {
     "name": "stderr",
     "output_type": "stream",
     "text": [
      "C:\\Users\\Nishant Kalanta\\Anaconda3\\lib\\site-packages\\ipykernel_launcher.py:2: DataConversionWarning: A column-vector y was passed when a 1d array was expected. Please change the shape of y to (n_samples,), for example using ravel().\n",
      "  \n"
     ]
    },
    {
     "data": {
      "text/plain": [
       "RandomForestRegressor(bootstrap=True, ccp_alpha=0.0, criterion='mse',\n",
       "                      max_depth=5, max_features='auto', max_leaf_nodes=None,\n",
       "                      max_samples=None, min_impurity_decrease=0.0,\n",
       "                      min_impurity_split=None, min_samples_leaf=1,\n",
       "                      min_samples_split=2, min_weight_fraction_leaf=0.0,\n",
       "                      n_estimators=110, n_jobs=None, oob_score=False,\n",
       "                      random_state=11, verbose=0, warm_start=False)"
      ]
     },
     "execution_count": 59,
     "metadata": {},
     "output_type": "execute_result"
    }
   ],
   "source": [
    "regressor = RandomForestRegressor(criterion='mse',max_depth=5, n_estimators=110,random_state=11)\n",
    "regressor.fit(X_train, y_train)"
   ]
  },
  {
   "cell_type": "code",
   "execution_count": 60,
   "metadata": {},
   "outputs": [],
   "source": [
    "y_pred = regressor.predict(X_test)"
   ]
  },
  {
   "cell_type": "markdown",
   "metadata": {},
   "source": [
    "## Checking the accuracy "
   ]
  },
  {
   "cell_type": "code",
   "execution_count": 61,
   "metadata": {},
   "outputs": [],
   "source": [
    "from sklearn.metrics import r2_score"
   ]
  },
  {
   "cell_type": "code",
   "execution_count": 62,
   "metadata": {},
   "outputs": [],
   "source": [
    "r2 = r2_score(y_test,y_pred)"
   ]
  },
  {
   "cell_type": "code",
   "execution_count": 63,
   "metadata": {},
   "outputs": [
    {
     "name": "stdout",
     "output_type": "stream",
     "text": [
      "Accuracy for Randrom forest =  76.0\n"
     ]
    }
   ],
   "source": [
    "print('Accuracy for Randrom forest = ',round(r2*100))"
   ]
  },
  {
   "cell_type": "markdown",
   "metadata": {},
   "source": [
    "# Using multilinear regression "
   ]
  },
  {
   "cell_type": "code",
   "execution_count": 64,
   "metadata": {},
   "outputs": [
    {
     "data": {
      "text/plain": [
       "LinearRegression(copy_X=True, fit_intercept=True, n_jobs=None, normalize=False)"
      ]
     },
     "execution_count": 64,
     "metadata": {},
     "output_type": "execute_result"
    }
   ],
   "source": [
    "from sklearn.linear_model import LinearRegression\n",
    "regressor = LinearRegression()\n",
    "regressor.fit(X_train, y_train)"
   ]
  },
  {
   "cell_type": "code",
   "execution_count": 65,
   "metadata": {},
   "outputs": [],
   "source": [
    "y_pred = regressor.predict(X_test)"
   ]
  },
  {
   "cell_type": "code",
   "execution_count": 66,
   "metadata": {},
   "outputs": [],
   "source": [
    "r2 = r2_score(y_test,y_pred)"
   ]
  },
  {
   "cell_type": "code",
   "execution_count": 67,
   "metadata": {},
   "outputs": [
    {
     "name": "stdout",
     "output_type": "stream",
     "text": [
      "Accuracy for Multilinear regression =  64.0\n"
     ]
    }
   ],
   "source": [
    "print('Accuracy for Multilinear regression = ',round(r2*100))"
   ]
  },
  {
   "cell_type": "markdown",
   "metadata": {},
   "source": [
    "# After using Random forest and Multilinear regression we get the best accuracy of 76% in random forest"
   ]
  }
 ],
 "metadata": {
  "kernelspec": {
   "display_name": "Python 3",
   "language": "python",
   "name": "python3"
  },
  "language_info": {
   "codemirror_mode": {
    "name": "ipython",
    "version": 3
   },
   "file_extension": ".py",
   "mimetype": "text/x-python",
   "name": "python",
   "nbconvert_exporter": "python",
   "pygments_lexer": "ipython3",
   "version": "3.7.7"
  }
 },
 "nbformat": 4,
 "nbformat_minor": 4
}
